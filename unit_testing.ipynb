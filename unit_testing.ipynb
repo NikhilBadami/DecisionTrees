{
 "cells": [
  {
   "cell_type": "markdown",
   "metadata": {},
   "source": [
    "**The assignment is not yet released for the Fall 2019 and might be subject to change.**\n",
    "\n",
    "# CS 6601: Artificial Intelligence - Assignment 4 - Decision Trees and Forests\n",
    "\n",
    "\n",
    "## Overview\n",
    "Machine learning offers a number of methods for classifying data into discrete categories, such as k-means clustering. Decision trees provide a structure for such categorization, based on a series of decisions that led to separate distinct outcomes. In this assignment, you will work with decision trees to perform binary classification according to some decision boundary. Your challenge is to build and to train decision trees capable of solving useful classification problems. You will learn first how to build decision trees, then how to effectively train them and finally how to test their performance.\n",
    "\n",
    "<p>\n",
    "<img src=\"./files/dt.png\" alt=\"Decision Trees\" width=\"700\" height=\"350\"/>\n",
    "    \n",
    "    \n",
    "### The Files\n",
    "\n",
    "You will only have to edit and submit **_decision_trees_submission.py_**, but there are a number of notable other files:\n",
    "1. **_decision_trees_submission.py_**: Where you will build your decision tree, confusion matrix, performance metrics, forests, and do the vectorization warm up.\n",
    "2. **_decision_trees_submission_tests.py_**: Sample tests to validate your trees, learning, and vectorization locally.\n",
    "\n",
    "### The Datasets\n",
    "1. **_part23_data.csv_**: 4 features, 1372 data points, binary classification (last column)\n",
    "\n",
    "2. **_challenge_train.csv_**:  30 features, 6636 datapoints, binary classification (first column)\n",
    "3. **_challenge_test.csv_**: (will not be provided, but will be similarly structured as challenge_train with 40% of the datapoints)\n",
    "\n",
    "Assignment 5 warmup\n",
    "4. **_vectorize.csv_**: data used during the vectorization warmup for Assignment 5\n",
    "\n",
    "### Imports\n",
    "**NOTE:** We are only allowing four imports: __ future__.division, numpy, collections.Counter and time. We will be checking to see if any other libraries are used. You are not allowed to use any outside libraries especially for part 4 (challenge). Please remember that you should not change any function headers.\n",
    "\n",
    "## The Assignment\n",
    "Classification is used widely in machine learning to figure out how to sort new data that comes through.  You will build, train and test decision tree models to perform basic classification tasks. Students should understand how decision trees and random forests work. This will help you develop an intuition for how and why accuracy differs for training and testing data based on different parameters.\n",
    "\n",
    "### Introduction\n",
    "For this assignment we're going to need an explicit way to make structured decisions. The `DecisionNode` class will be used to represent a decision node as some atomic choice in a binary decision graph. We would only use this implementation of the Decision Tree for this assignment and any other implementations will be checked against and denied credit.\n",
    "\n",
    "An object from the 'DecisionNode' can represent a class label (i.e. a final decision) or a binary decision to guide us through a flow-chart to arrive at a decision. Note that in this representation 'True' values for a decision take us to the left. This choice is arbitrary.\n",
    "\n",
    "# HOW TO USE THIS NOTEBOOK\n",
    "\n",
    "## This notebook is meant to help structure your coding for the assignment, all it does is align the relevant tests for each section in a convenient format. Code Changes should still be made in decision_trees_submission.py. This notebook *should* dynamically reload your file for each test (please let us know if it doesnt). You do not need to submit this notebook, nor do you need to use it if you prefer running the unit tests from the command line. Remember to read the unit tests to understand what you are passing.\n",
    "\n"
   ]
  },
  {
   "cell_type": "code",
   "execution_count": 1,
   "metadata": {},
   "outputs": [],
   "source": [
    "### Setting Up some utilities for testing:\n",
    "from __future__ import division\n",
    "\n",
    "import unittest\n",
    "import submission as dt\n",
    "import numpy as np\n",
    "import importlib\n",
    "import decision_trees_submission_tests"
   ]
  },
  {
   "cell_type": "code",
   "execution_count": 2,
   "metadata": {},
   "outputs": [],
   "source": [
    "\n",
    "def single_tester(test, case):\n",
    "    importlib.reload(dt)\n",
    "    importlib.reload(decision_trees_submission_tests)\n",
    "    if test == decision_trees_submission_tests.DecisionTreePart1Tests:\n",
    "        print(\"Running Decision Tree Part 1 Test: {}\".format(case))\n",
    "    elif test == decision_trees_submission_tests.DecisionTreePart2Tests:\n",
    "        print(\"Running Decision Tree Part 2Test: {}\".format(case))\n",
    "    elif test == decision_trees_submission_tests.VectorizationWarmUpTests:\n",
    "        print(\"Running Vectoriization Warmup Tests: {}\".format(case))\n",
    "    elif test == decision_trees_submission_tests.NameTests:\n",
    "        print(\"Name Test: {}\".format(case))\n",
    "        \n",
    "    suite = unittest.TestSuite()\n",
    "    suite.addTest(test(case))\n",
    "    runner = unittest.TextTestRunner()\n",
    "    runner.run(suite)"
   ]
  },
  {
   "cell_type": "markdown",
   "metadata": {},
   "source": [
    "### Part 1a: Building a Binary Tree by Hand\n",
    "_[5 Pts]_\n",
    "\n",
    "In `build_decision_tree()`, construct a tree of decision nodes by hand in order to classify the data below, i.e. map each datum **x** to a label **y**.  Select tests to be as small as possible (in terms of attributes), breaking ties among tests with the same number of attributes by selecting the one that classifies the greatest number of examples correctly. If multiple tests have the same number of attributes and classify the same number of examples, then break the tie using attributes with lower index numbers (e.g. select **A1** over **A2**)\n",
    "<p>\n",
    "\n",
    "| Datum\t| A1  | A2  | A3  | A4  |  y  |\n",
    "| ----- | --- | --- | --- | --- | --- |\n",
    "| x1    |  1  |  0  |  0  |  0  |  1  |\n",
    "| x2    |  1  |  0  |  1  |  1  |  1  |\n",
    "| x3    |  0  |  1  |  0  |  0  |  1  |\n",
    "| x4    |  0  |  1  |  1  |  0  |  0  |\n",
    "| x5    |  1  |  1  |  0  |  1  |  1  |\n",
    "| x6    |  0  |  1  |  0  |  1  |  0  |\n",
    "| x7    |  0  |  0  |  1  |  1  |  1  |\n",
    "| x8    |  0  |  0  |  1  |  0  |  0  |\n",
    "\n",
    "#### Requirements:\n",
    "The tree nodes should be less than 10 nodes including the leaf (not the number of instances, but the actual nodes in the tree).\n",
    "\n",
    "#### Hints:\n",
    "To get started, it might help to **draw out the tree by hand** with each attribute representing a node.\n",
    "\n",
    "To create the decision function that will be passed to `DecisionNode`, you can create a lambda expression as follows:\n",
    "\n",
    "    func = lambda feature : feature[2] == 0\n",
    "\n",
    "This will choose the left node if the third attribute is 0.\n",
    "\n",
    "For example, a tree looks like this:\n",
    "\n",
    "> if A1=0 then class = 1; else class = 0\n",
    "> <p>\n",
    "> <img src=\"./files/tree_example.png\" alt=\"Tree Example\"/>\n",
    "\n",
    "You would write your code like this:\n",
    "\n",
    "    decision_tree_root = DecisionNode(None, None, lambda a1: a1 == 0)\n",
    "    decision_tree_root.left = DecisionNode(None, None, None, 1)\n",
    "    decision_tree_root.right = DecisionNode(None, None, None, 0)\n",
    "\n",
    "    return decision_tree_root\n",
    "\n",
    "#### Functions to complete in the `decision_trees_submission` module:\n",
    "1. `build_decision_tree()`\n",
    "\n",
    "---"
   ]
  },
  {
   "cell_type": "code",
   "execution_count": 3,
   "metadata": {},
   "outputs": [
    {
     "name": "stderr",
     "output_type": "stream",
     "text": [
      "E\n",
      "======================================================================\n",
      "ERROR: test_hand_tree_accuracy (decision_trees_submission_tests.DecisionTreePart1Tests)\n",
      "Test accuracy of the tree example.\n",
      "----------------------------------------------------------------------\n",
      "Traceback (most recent call last):\n",
      "  File \"C:\\Users\\Pol\\Documents\\GitHub\\assignment_4\\decision_trees_submission_tests.py\", line 24, in setUp\n",
      "    self.hand_tree = dt.build_decision_tree()\n",
      "  File \"C:\\Users\\Pol\\Documents\\GitHub\\assignment_4\\submission.py\", line 84, in build_decision_tree\n",
      "    raise NotImplemented()\n",
      "TypeError: 'NotImplementedType' object is not callable\n",
      "\n",
      "----------------------------------------------------------------------\n",
      "Ran 1 test in 0.002s\n",
      "\n",
      "FAILED (errors=1)\n"
     ]
    }
   ],
   "source": [
    "single_tester(decision_trees_submission_tests.DecisionTreePart1Tests, 'test_hand_tree_accuracy')"
   ]
  },
  {
   "cell_type": "markdown",
   "metadata": {},
   "source": [
    "\n",
    "### Part 1b: Precision, Recall, Accuracy and Confusion Matrix\n",
    "_[12 pts]_\n",
    "\n",
    "Now that we have a decision tree, we're going to need some way to evaluate its performance. In most cases we would reserve a portion of the training data for evaluation, or use cross-validation. Fill out the methods to compute the confusion matrix, accuracy, precision and recall for your classifier output. `classifier_output` is just the list of labels that your classifier outputs, corresponding to the same examples as `true_labels`. You can refer to [Wikipedia](https://en.wikipedia.org/wiki/Confusion_matrix) for calculating the true/false positive/negative.\n",
    "\n",
    "If you want to calculate the example set above by hand, run the following code.\n",
    "\n",
    "    classifier_output = [decision_tree_root.decide(example) for example in examples]\n",
    "\n",
    "    p1_confusion_matrix = confusion_matrix(classifier_output, classes)\n",
    "    p1_accuracy = accuracy( classifier_output, classes )\n",
    "    p1_precision = precision(classifier_output, classes)\n",
    "    p1_recall = recall(classifier_output, classes)\n",
    "\n",
    "    print p1_confusion_matrix, p1_accuracy, p1_precision, p1_recall\n",
    "\n",
    "#### Functions to complete in the `decision_trees_submission` module:\n",
    "1. `confusion_matrix()`\n"
   ]
  },
  {
   "cell_type": "code",
   "execution_count": 4,
   "metadata": {},
   "outputs": [
    {
     "name": "stderr",
     "output_type": "stream",
     "text": [
      "E\n",
      "======================================================================\n",
      "ERROR: test_confusion_matrix (decision_trees_submission_tests.DecisionTreePart1Tests)\n",
      "Test confusion matrix for the example tree.\n",
      "----------------------------------------------------------------------\n",
      "Traceback (most recent call last):\n",
      "  File \"C:\\Users\\Pol\\Documents\\GitHub\\assignment_4\\decision_trees_submission_tests.py\", line 24, in setUp\n",
      "    self.hand_tree = dt.build_decision_tree()\n",
      "  File \"C:\\Users\\Pol\\Documents\\GitHub\\assignment_4\\submission.py\", line 84, in build_decision_tree\n",
      "    raise NotImplemented()\n",
      "TypeError: 'NotImplementedType' object is not callable\n",
      "\n",
      "----------------------------------------------------------------------\n",
      "Ran 1 test in 0.001s\n",
      "\n",
      "FAILED (errors=1)\n"
     ]
    }
   ],
   "source": [
    "single_tester(decision_trees_submission_tests.DecisionTreePart1Tests, 'test_confusion_matrix')"
   ]
  },
  {
   "cell_type": "markdown",
   "metadata": {},
   "source": [
    "2. `precision()`"
   ]
  },
  {
   "cell_type": "code",
   "execution_count": 5,
   "metadata": {},
   "outputs": [
    {
     "name": "stderr",
     "output_type": "stream",
     "text": [
      "E\n",
      "======================================================================\n",
      "ERROR: test_precision_calculation (decision_trees_submission_tests.DecisionTreePart1Tests)\n",
      "Test precision calculation.\n",
      "----------------------------------------------------------------------\n",
      "Traceback (most recent call last):\n",
      "  File \"C:\\Users\\Pol\\Documents\\GitHub\\assignment_4\\decision_trees_submission_tests.py\", line 24, in setUp\n",
      "    self.hand_tree = dt.build_decision_tree()\n",
      "  File \"C:\\Users\\Pol\\Documents\\GitHub\\assignment_4\\submission.py\", line 84, in build_decision_tree\n",
      "    raise NotImplemented()\n",
      "TypeError: 'NotImplementedType' object is not callable\n",
      "\n",
      "----------------------------------------------------------------------\n",
      "Ran 1 test in 0.001s\n",
      "\n",
      "FAILED (errors=1)\n"
     ]
    }
   ],
   "source": [
    "single_tester(decision_trees_submission_tests.DecisionTreePart1Tests, 'test_precision_calculation')"
   ]
  },
  {
   "cell_type": "markdown",
   "metadata": {},
   "source": [
    "3. `recall()`"
   ]
  },
  {
   "cell_type": "code",
   "execution_count": 6,
   "metadata": {},
   "outputs": [
    {
     "name": "stderr",
     "output_type": "stream",
     "text": [
      "E\n",
      "======================================================================\n",
      "ERROR: test_recall_calculation (decision_trees_submission_tests.DecisionTreePart1Tests)\n",
      "Test recall calculation.\n",
      "----------------------------------------------------------------------\n",
      "Traceback (most recent call last):\n",
      "  File \"C:\\Users\\Pol\\Documents\\GitHub\\assignment_4\\decision_trees_submission_tests.py\", line 24, in setUp\n",
      "    self.hand_tree = dt.build_decision_tree()\n",
      "  File \"C:\\Users\\Pol\\Documents\\GitHub\\assignment_4\\submission.py\", line 84, in build_decision_tree\n",
      "    raise NotImplemented()\n",
      "TypeError: 'NotImplementedType' object is not callable\n",
      "\n",
      "----------------------------------------------------------------------\n",
      "Ran 1 test in 0.000s\n",
      "\n",
      "FAILED (errors=1)\n"
     ]
    }
   ],
   "source": [
    "single_tester(decision_trees_submission_tests.DecisionTreePart1Tests, 'test_recall_calculation')"
   ]
  },
  {
   "cell_type": "markdown",
   "metadata": {},
   "source": [
    "4. `accuracy()`"
   ]
  },
  {
   "cell_type": "code",
   "execution_count": 7,
   "metadata": {},
   "outputs": [
    {
     "name": "stderr",
     "output_type": "stream",
     "text": [
      "E\n",
      "======================================================================\n",
      "ERROR: test_accuracy_calculation (decision_trees_submission_tests.DecisionTreePart1Tests)\n",
      "Test accuracy calculation.\n",
      "----------------------------------------------------------------------\n",
      "Traceback (most recent call last):\n",
      "  File \"C:\\Users\\Pol\\Documents\\GitHub\\assignment_4\\decision_trees_submission_tests.py\", line 24, in setUp\n",
      "    self.hand_tree = dt.build_decision_tree()\n",
      "  File \"C:\\Users\\Pol\\Documents\\GitHub\\assignment_4\\submission.py\", line 84, in build_decision_tree\n",
      "    raise NotImplemented()\n",
      "TypeError: 'NotImplementedType' object is not callable\n",
      "\n",
      "----------------------------------------------------------------------\n",
      "Ran 1 test in 0.001s\n",
      "\n",
      "FAILED (errors=1)\n"
     ]
    }
   ],
   "source": [
    "single_tester(decision_trees_submission_tests.DecisionTreePart1Tests, 'test_accuracy_calculation')"
   ]
  },
  {
   "cell_type": "markdown",
   "metadata": {},
   "source": [
    "\n",
    "### Part 2a: Decision Tree Learning\n",
    "_[6 pts]_\n",
    "\n",
    "The first step in order to learn how best to create a decision tree, we need to know how well we are splitting the data. This is usually done by measuring the entropy of each split and using it to calculate information gain, but we'd like you to use GINI impurity instead of entropy for this assignment. We can do this by calculating the  `gini_impurity` and `gini_gain()` on the various splits (hints: [gini impurity](https://en.wikipedia.org/wiki/Decision_tree_learning#Gini_impurity) and [information gain](https://en.wikipedia.org/wiki/Information_gain_in_decision_trees)).\n",
    "\n",
    "<p>\n",
    "\n",
    "#### Functions to complete in the `decision_trees_submission` module:\n",
    "1. `gini_impurity()`\n",
    "\n"
   ]
  },
  {
   "cell_type": "code",
   "execution_count": 8,
   "metadata": {},
   "outputs": [
    {
     "name": "stderr",
     "output_type": "stream",
     "text": [
      "E\n",
      "======================================================================\n",
      "ERROR: test_gini_impurity_max (decision_trees_submission_tests.DecisionTreePart2Tests)\n",
      "Test maximum gini impurity.\n",
      "----------------------------------------------------------------------\n",
      "Traceback (most recent call last):\n",
      "  File \"C:\\Users\\Pol\\Documents\\GitHub\\assignment_4\\decision_trees_submission_tests.py\", line 145, in test_gini_impurity_max\n",
      "    gini_impurity = dt.gini_impurity([1, 1, 1, 0, 0, 0])\n",
      "  File \"C:\\Users\\Pol\\Documents\\GitHub\\assignment_4\\submission.py\", line 163, in gini_impurity\n",
      "    raise NotImplemented()\n",
      "TypeError: 'NotImplementedType' object is not callable\n",
      "\n",
      "----------------------------------------------------------------------\n",
      "Ran 1 test in 0.005s\n",
      "\n",
      "FAILED (errors=1)\n"
     ]
    }
   ],
   "source": [
    "single_tester(decision_trees_submission_tests.DecisionTreePart2Tests, 'test_gini_impurity_max')"
   ]
  },
  {
   "cell_type": "code",
   "execution_count": 9,
   "metadata": {},
   "outputs": [
    {
     "name": "stderr",
     "output_type": "stream",
     "text": [
      "E\n",
      "======================================================================\n",
      "ERROR: test_gini_impurity_min (decision_trees_submission_tests.DecisionTreePart2Tests)\n",
      "Test minimum gini impurity.\n",
      "----------------------------------------------------------------------\n",
      "Traceback (most recent call last):\n",
      "  File \"C:\\Users\\Pol\\Documents\\GitHub\\assignment_4\\decision_trees_submission_tests.py\", line 156, in test_gini_impurity_min\n",
      "    gini_impurity = dt.gini_impurity([1, 1, 1, 1, 1, 1])\n",
      "  File \"C:\\Users\\Pol\\Documents\\GitHub\\assignment_4\\submission.py\", line 163, in gini_impurity\n",
      "    raise NotImplemented()\n",
      "TypeError: 'NotImplementedType' object is not callable\n",
      "\n",
      "----------------------------------------------------------------------\n",
      "Ran 1 test in 0.004s\n",
      "\n",
      "FAILED (errors=1)\n"
     ]
    }
   ],
   "source": [
    "single_tester(decision_trees_submission_tests.DecisionTreePart2Tests, 'test_gini_impurity_min')"
   ]
  },
  {
   "cell_type": "code",
   "execution_count": 10,
   "metadata": {},
   "outputs": [
    {
     "name": "stderr",
     "output_type": "stream",
     "text": [
      "E\n",
      "======================================================================\n",
      "ERROR: test_gini_impurity (decision_trees_submission_tests.DecisionTreePart2Tests)\n",
      "Test gini impurity.\n",
      "----------------------------------------------------------------------\n",
      "Traceback (most recent call last):\n",
      "  File \"C:\\Users\\Pol\\Documents\\GitHub\\assignment_4\\decision_trees_submission_tests.py\", line 167, in test_gini_impurity\n",
      "    gini_impurity = dt.gini_impurity([1, 1, 0, 0, 0, 0])\n",
      "  File \"C:\\Users\\Pol\\Documents\\GitHub\\assignment_4\\submission.py\", line 163, in gini_impurity\n",
      "    raise NotImplemented()\n",
      "TypeError: 'NotImplementedType' object is not callable\n",
      "\n",
      "----------------------------------------------------------------------\n",
      "Ran 1 test in 0.005s\n",
      "\n",
      "FAILED (errors=1)\n"
     ]
    }
   ],
   "source": [
    "single_tester(decision_trees_submission_tests.DecisionTreePart2Tests, 'test_gini_impurity')"
   ]
  },
  {
   "cell_type": "markdown",
   "metadata": {},
   "source": [
    "2. `gini_gain()`"
   ]
  },
  {
   "cell_type": "code",
   "execution_count": 11,
   "metadata": {},
   "outputs": [
    {
     "name": "stderr",
     "output_type": "stream",
     "text": [
      "E\n",
      "======================================================================\n",
      "ERROR: test_gini_gain (decision_trees_submission_tests.DecisionTreePart2Tests)\n",
      "Test gini gain.\n",
      "----------------------------------------------------------------------\n",
      "Traceback (most recent call last):\n",
      "  File \"C:\\Users\\Pol\\Documents\\GitHub\\assignment_4\\decision_trees_submission_tests.py\", line 191, in test_gini_gain\n",
      "    [[1, 1, 0], [1, 0, 0]])\n",
      "  File \"C:\\Users\\Pol\\Documents\\GitHub\\assignment_4\\submission.py\", line 175, in gini_gain\n",
      "    raise NotImplemented()\n",
      "TypeError: 'NotImplementedType' object is not callable\n",
      "\n",
      "----------------------------------------------------------------------\n",
      "Ran 1 test in 0.004s\n",
      "\n",
      "FAILED (errors=1)\n"
     ]
    }
   ],
   "source": [
    "single_tester(decision_trees_submission_tests.DecisionTreePart2Tests, 'test_gini_gain')"
   ]
  },
  {
   "cell_type": "code",
   "execution_count": 12,
   "metadata": {},
   "outputs": [
    {
     "name": "stderr",
     "output_type": "stream",
     "text": [
      "E\n",
      "======================================================================\n",
      "ERROR: test_gini_gain_restaurant_patrons (decision_trees_submission_tests.DecisionTreePart2Tests)\n",
      "Test gini gain using restaurant patrons.\n",
      "----------------------------------------------------------------------\n",
      "Traceback (most recent call last):\n",
      "  File \"C:\\Users\\Pol\\Documents\\GitHub\\assignment_4\\decision_trees_submission_tests.py\", line 204, in test_gini_gain_restaurant_patrons\n",
      "    self.restaurant['split_patrons'])\n",
      "  File \"C:\\Users\\Pol\\Documents\\GitHub\\assignment_4\\submission.py\", line 175, in gini_gain\n",
      "    raise NotImplemented()\n",
      "TypeError: 'NotImplementedType' object is not callable\n",
      "\n",
      "----------------------------------------------------------------------\n",
      "Ran 1 test in 0.005s\n",
      "\n",
      "FAILED (errors=1)\n"
     ]
    }
   ],
   "source": [
    "single_tester(decision_trees_submission_tests.DecisionTreePart2Tests, 'test_gini_gain_restaurant_patrons')"
   ]
  },
  {
   "cell_type": "code",
   "execution_count": 13,
   "metadata": {},
   "outputs": [
    {
     "name": "stderr",
     "output_type": "stream",
     "text": [
      "E\n",
      "======================================================================\n",
      "ERROR: test_gini_gain_restaurant_type (decision_trees_submission_tests.DecisionTreePart2Tests)\n",
      "Test gini gain using restaurant food type.\n",
      "----------------------------------------------------------------------\n",
      "Traceback (most recent call last):\n",
      "  File \"C:\\Users\\Pol\\Documents\\GitHub\\assignment_4\\decision_trees_submission_tests.py\", line 217, in test_gini_gain_restaurant_type\n",
      "    self.restaurant['split_food_type']), 2)\n",
      "  File \"C:\\Users\\Pol\\Documents\\GitHub\\assignment_4\\submission.py\", line 175, in gini_gain\n",
      "    raise NotImplemented()\n",
      "TypeError: 'NotImplementedType' object is not callable\n",
      "\n",
      "----------------------------------------------------------------------\n",
      "Ran 1 test in 0.005s\n",
      "\n",
      "FAILED (errors=1)\n"
     ]
    }
   ],
   "source": [
    "single_tester(decision_trees_submission_tests.DecisionTreePart2Tests, 'test_gini_gain_restaurant_type')"
   ]
  },
  {
   "cell_type": "markdown",
   "metadata": {},
   "source": [
    "### Part 2b: Decision Tree Learning\n",
    "_[20 pts]_\n",
    "\n",
    "* File to use: **_part23_data.csv_**\n",
    "* Grading: average test accuracy over 10 rounds should be >= 70%\n",
    "\n",
    "As the size of our training set grows, it rapidly becomes impractical to build these trees by hand. We need a procedure to automagically construct these trees.\n",
    "\n",
    "For starters, let's consider the following algorithm (a variation of [C4.5](https://en.wikipedia.org/wiki/C4.5_algorithm)) for the construction of a decision tree from a given set of examples:\n",
    "1. Check for base cases:\n",
    "   1. If all elements of a list are of the same class, return a leaf node with the appropriate class label.\n",
    "   2. If a specified depth limit is reached, return a leaf labeled with the most frequent class.\n",
    "2. For each attribute alpha: evaluate the normalized gini gain gained by splitting on attribute `alpha`.\n",
    "3. Let `alpha_best` be the attribute with the highest normalized gini gain.\n",
    "4. Create a decision node that splits on `alpha_best`.\n",
    "5. Repeat on the sublists obtained by splitting on `alpha_best`, and add those nodes as children of this node\n",
    "\n",
    "First, in the `DecisionTree.__build_tree__()` method implement the above algorithm.\n",
    "Next, in `DecisionTree.classify()`, write a function to produce classifications for a list of features once your decision tree has been built.\n",
    "\n",
    "Some other helpful notes:\n",
    "1. Your features and classify should be in numpy arrays where if the dataset is (_m_ x _n_) then the features is (_m_ x _n-1_) and classify is (_m_ x _1_)\n",
    "2. These features are continuous features and you will need to split based on a threshold.\n",
    "\n",
    "How grading works:\n",
    "1. We load **_part23_data.csv_** and create our cross-validation training and test set with a `k=10` folds.  We use our own `generate_k_folds()` method.\n",
    "2. We classify the training data onto the three then fit the testing data onto the tree.\n",
    "3. We check the accuracy of your results versus the true results and we return the average of this over 10 iterations.\n",
    "\n",
    "#### Functions to complete in the `DecisionTree` class:\n",
    "1. `__build_tree__()`\n",
    "2. `classify()`\n",
    "\n",
    "Local Tests will Simply Check to make sure you can fit to 100% accuracy on the training data:"
   ]
  },
  {
   "cell_type": "code",
   "execution_count": 14,
   "metadata": {},
   "outputs": [
    {
     "name": "stderr",
     "output_type": "stream",
     "text": [
      "E\n",
      "======================================================================\n",
      "ERROR: test_decision_tree_all_data (decision_trees_submission_tests.DecisionTreePart2Tests)\n",
      "Test decision tree classifies all data correctly.\n",
      "----------------------------------------------------------------------\n",
      "Traceback (most recent call last):\n",
      "  File \"C:\\Users\\Pol\\Documents\\GitHub\\assignment_4\\decision_trees_submission_tests.py\", line 229, in test_decision_tree_all_data\n",
      "    tree.fit(self.train_features, self.train_classes)\n",
      "  File \"C:\\Users\\Pol\\Documents\\GitHub\\assignment_4\\submission.py\", line 198, in fit\n",
      "    self.root = self.__build_tree__(features, classes)\n",
      "  File \"C:\\Users\\Pol\\Documents\\GitHub\\assignment_4\\submission.py\", line 211, in __build_tree__\n",
      "    raise NotImplemented()\n",
      "TypeError: 'NotImplementedType' object is not callable\n",
      "\n",
      "----------------------------------------------------------------------\n",
      "Ran 1 test in 0.004s\n",
      "\n",
      "FAILED (errors=1)\n"
     ]
    }
   ],
   "source": [
    "single_tester(decision_trees_submission_tests.DecisionTreePart2Tests, 'test_decision_tree_all_data')"
   ]
  },
  {
   "cell_type": "markdown",
   "metadata": {},
   "source": [
    "### Part 2c: Validation\n",
    "_[10 pts]_\n",
    "\n",
    "* File to use: **_part23_data.csv_**\n",
    "* Grading: average test accuracy over 10 rounds should be >= 70%\n",
    "\n",
    "In general, reserving part of your data as a test set can lead to unpredictable performance. A serendipitous choice of your training or test split could give you a very inaccurate idea of how your classifier performs. We can overcome this limitation by using k-fold cross validation.\n",
    "\n",
    "In `generate_k_folds()`, we'll split the dataset at random into k equal subsections. Then iterating on each of our k samples, we'll reserve that sample for testing and use the other k-1 for training. Averaging the results of each fold should give us a more consistent idea of how the classifier is doing across the data as a whole.\n",
    "\n",
    "How grading works:\n",
    "1. The same as 2b however, we use your `generate_k_folds()` instead of ours.\n",
    "\n",
    "#### Functions to complete in the `decision_trees_submission` module:\n",
    "1. `generate_k_folds()`\n"
   ]
  },
  {
   "cell_type": "code",
   "execution_count": 15,
   "metadata": {},
   "outputs": [
    {
     "name": "stderr",
     "output_type": "stream",
     "text": [
      "E\n",
      "======================================================================\n",
      "ERROR: test_k_folds_training_set_count (decision_trees_submission_tests.DecisionTreePart2Tests)\n",
      "Test k folds returns the correct training set size.\n",
      "----------------------------------------------------------------------\n",
      "Traceback (most recent call last):\n",
      "  File \"C:\\Users\\Pol\\Documents\\GitHub\\assignment_4\\decision_trees_submission_tests.py\", line 261, in test_k_folds_training_set_count\n",
      "    ten_folds = dt.generate_k_folds(self.dataset, k)\n",
      "  File \"C:\\Users\\Pol\\Documents\\GitHub\\assignment_4\\submission.py\", line 241, in generate_k_folds\n",
      "    raise NotImplemented()\n",
      "TypeError: 'NotImplementedType' object is not callable\n",
      "\n",
      "----------------------------------------------------------------------\n",
      "Ran 1 test in 0.005s\n",
      "\n",
      "FAILED (errors=1)\n"
     ]
    }
   ],
   "source": [
    "single_tester(decision_trees_submission_tests.DecisionTreePart2Tests, 'test_k_folds_training_set_count')"
   ]
  },
  {
   "cell_type": "code",
   "execution_count": 16,
   "metadata": {},
   "outputs": [
    {
     "name": "stderr",
     "output_type": "stream",
     "text": [
      "E\n",
      "======================================================================\n",
      "ERROR: test_k_folds_test_set_count (decision_trees_submission_tests.DecisionTreePart2Tests)\n",
      "Test k folds returns the correct test set size.\n",
      "----------------------------------------------------------------------\n",
      "Traceback (most recent call last):\n",
      "  File \"C:\\Users\\Pol\\Documents\\GitHub\\assignment_4\\decision_trees_submission_tests.py\", line 244, in test_k_folds_test_set_count\n",
      "    ten_folds = dt.generate_k_folds(self.dataset, k)\n",
      "  File \"C:\\Users\\Pol\\Documents\\GitHub\\assignment_4\\submission.py\", line 241, in generate_k_folds\n",
      "    raise NotImplemented()\n",
      "TypeError: 'NotImplementedType' object is not callable\n",
      "\n",
      "----------------------------------------------------------------------\n",
      "Ran 1 test in 0.005s\n",
      "\n",
      "FAILED (errors=1)\n"
     ]
    }
   ],
   "source": [
    "single_tester(decision_trees_submission_tests.DecisionTreePart2Tests, 'test_k_folds_test_set_count')"
   ]
  },
  {
   "cell_type": "markdown",
   "metadata": {},
   "source": [
    "### Part 3: Random Forests\n",
    "_[30 pts]_\n",
    "\n",
    "* File to use: **_part23_data.csv_**\n",
    "* Grading: average test accuracy over 10 rounds should be >= 75%\n",
    "\n",
    "The decision boundaries drawn by decision trees are very sharp, and fitting a decision tree of unbounded depth to a list of training examples almost inevitably leads to overfitting. In an attempt to decrease the variance of our classifier we're going to use a technique called 'Bootstrap Aggregating' (often abbreviated as 'bagging').\n",
    "\n",
    "A Random Forest is a collection of decision trees, built as follows:\n",
    "1. For every tree we're going to build:\n",
    "   1. Subsample the examples provided us (with replacement) in accordance with a provided example subsampling rate.\n",
    "   2. From the sample in the first step, choose attributes at random to learn on (in accordance with a provided attribute subsampling rate).\n",
    "   3. Fit a decision tree to the subsample of data we've chosen (to a certain depth).\n",
    "\n",
    "Classification for a random forest is then done by taking a majority vote of the classifications yielded by each tree in the forest after it classifies an example.\n",
    "\n",
    "Fill in `RandomForest.fit()` to fit the decision tree as we describe above, and fill in `RandomForest.classify()` to classify a given list of examples.\n",
    "\n",
    "Your features and classify should be in numpy arrays where if the dataset is (_m_ x _n_) then the features is (_m_ x _n-1_) and classify is (_n_ x _1_).\n",
    "\n",
    "To test, we will be using a forest with 5 trees, with a depth limit of 5, example subsample rate of 0.5 and attribute subsample rate of 0.5\n",
    "\n",
    "How grading works:\n",
    "1. Similar to 2b but with the call to Random Forest.\n",
    "\n",
    "#### Functions to complete in the `RandomForest` class:\n",
    "1. `fit()`\n",
    "2. `classify()`\n",
    "\n",
    "*Hint: There Are no Unit Tests for this section, but perhaps you can check the accuracy of each individual tree (if not depth limited) as a sanity check of your implementation*"
   ]
  },
  {
   "cell_type": "code",
   "execution_count": 17,
   "metadata": {},
   "outputs": [],
   "source": [
    "#Can devise some sort of local test for Forests here"
   ]
  },
  {
   "cell_type": "markdown",
   "metadata": {},
   "source": [
    "### Part 4: Challenge Classifier\n",
    "_[10 pts]_\n",
    "\n",
    "* File to use: **_challenge_train.csv_**\n",
    "* Grading: average training accuracy over 10 runs should be >= 80% and average testing accuracy over 10 runs should be >= 70%\n",
    "\n",
    "The Challenge Classifier should be implemented using some sort of a **tree structure**.  Students in the past have been able to call their `RandomForest` with different parameters. We also encourage things like boosting.\n",
    "\n",
    "You've been provided with a sample of data from a research dataset in **_challenge_train.csv_** while we have reserved a part of the dataset for testing called **_challenge_test.csv_** (which you do not have access to).\n",
    "\n",
    "To get full points for this part of the assignment, you'll need to get at least an average accuracy of 80% on the training data you have (**_challenge_train.csv_**), and at least an average accuracy of 70% on the holdout/test set (**_challenge_test.csv_**). We do provide how long it takes for your training and testing to run.\n",
    "\n",
    "#### Functions to complete in the `ChallengeClassifier` class:\n",
    "1. `__init__()`\n",
    "2. `fit()`\n",
    "3. `classify()`\n"
   ]
  },
  {
   "cell_type": "code",
   "execution_count": 18,
   "metadata": {},
   "outputs": [],
   "source": [
    "#Can devise some sort of local test for challenge here"
   ]
  },
  {
   "cell_type": "markdown",
   "metadata": {},
   "source": [
    "### Part 5: Vectorization!\n",
    "_[6 pts]_\n",
    "\n",
    "* File to use: **_vectorize.csv_**\n",
    "\n",
    "Vectorization is a process that provides enormous performance increases when processing large amounts of data. Whether one is training a deep neural network on millions of images, building random forests over a large dataset, or utilizing other algorithms, machine learning makes _extensive_ use of vectorization. In python, the **numpy** package provides a programmer with the ability to use python-wrapped, low-level optimizations written in C, however, the technique may feel strange at first and requires some practice to use comfortably.\n",
    "\n",
    "Assignment 5 has a vectorization requirement so that it can run within a reasonable time limit. This small section will hopefully introduce you to vectorization and some of the cool tricks you can use in python. We encourage you to use any numpy function out there (on good faith) to do the following functions.\n",
    "\n",
    "For the three functions that we have, we are testing your code based on how fast it runs. It will need to beat the non-vectorized code to get full points.\n",
    "\n",
    "As a reminder, please don't ask the TA's for help regarding this section, we will not be able to assist you in any way. This section was created to help get you ready for assignment_5; feel free to ask other students on Piazza or use the Internet.\n",
    "\n",
    "How grading works:\n",
    "1. We run the non-vectorized code and your vectorized code 500 times, as long as the average time of your vectorized code is less than the average time of the non-vectorized code, you will get the points (given that your answer is correct).\n",
    "\n",
    "#### Functions to complete in the `Vectorization` class:\n",
    "1. `vectorized_loops()`\n",
    "\n"
   ]
  },
  {
   "cell_type": "code",
   "execution_count": 19,
   "metadata": {},
   "outputs": [
    {
     "name": "stderr",
     "output_type": "stream",
     "text": [
      "E\n",
      "======================================================================\n",
      "ERROR: test_vectorized_loops (decision_trees_submission_tests.VectorizationWarmUpTests)\n",
      "Test if vectorized arithmetic.\n",
      "----------------------------------------------------------------------\n",
      "Traceback (most recent call last):\n",
      "  File \"C:\\Users\\Pol\\Documents\\GitHub\\assignment_4\\decision_trees_submission_tests.py\", line 292, in test_vectorized_loops\n",
      "    my_answer = self.vector.vectorized_loops(self.data)\n",
      "  File \"C:\\Users\\Pol\\Documents\\GitHub\\assignment_4\\submission.py\", line 354, in vectorized_loops\n",
      "    raise NotImplemented()\n",
      "TypeError: 'NotImplementedType' object is not callable\n",
      "\n",
      "----------------------------------------------------------------------\n",
      "Ran 1 test in 0.042s\n",
      "\n",
      "FAILED (errors=1)\n"
     ]
    }
   ],
   "source": [
    "single_tester(decision_trees_submission_tests.VectorizationWarmUpTests, 'test_vectorized_loops')"
   ]
  },
  {
   "cell_type": "markdown",
   "metadata": {},
   "source": [
    "2. `vectorized_slice()`\n"
   ]
  },
  {
   "cell_type": "code",
   "execution_count": 20,
   "metadata": {},
   "outputs": [
    {
     "name": "stderr",
     "output_type": "stream",
     "text": [
      "E\n",
      "======================================================================\n",
      "ERROR: test_vectorized_slice (decision_trees_submission_tests.VectorizationWarmUpTests)\n",
      "Test if vectorized slicing.\n",
      "----------------------------------------------------------------------\n",
      "Traceback (most recent call last):\n",
      "  File \"C:\\Users\\Pol\\Documents\\GitHub\\assignment_4\\decision_trees_submission_tests.py\", line 304, in test_vectorized_slice\n",
      "    my_sum, my_sum_index = self.vector.vectorized_slice(self.data)\n",
      "  File \"C:\\Users\\Pol\\Documents\\GitHub\\assignment_4\\submission.py\", line 391, in vectorized_slice\n",
      "    raise NotImplemented()\n",
      "TypeError: 'NotImplementedType' object is not callable\n",
      "\n",
      "----------------------------------------------------------------------\n",
      "Ran 1 test in 0.015s\n",
      "\n",
      "FAILED (errors=1)\n"
     ]
    }
   ],
   "source": [
    "single_tester(decision_trees_submission_tests.VectorizationWarmUpTests, 'test_vectorized_slice')"
   ]
  },
  {
   "cell_type": "markdown",
   "metadata": {},
   "source": [
    "3. `vectorized_flatten()`"
   ]
  },
  {
   "cell_type": "code",
   "execution_count": 21,
   "metadata": {},
   "outputs": [
    {
     "name": "stderr",
     "output_type": "stream",
     "text": [
      "E\n",
      "======================================================================\n",
      "ERROR: test_vectorized_flatten (decision_trees_submission_tests.VectorizationWarmUpTests)\n",
      "Test if vectorized flattening.\n",
      "----------------------------------------------------------------------\n",
      "Traceback (most recent call last):\n",
      "  File \"C:\\Users\\Pol\\Documents\\GitHub\\assignment_4\\decision_trees_submission_tests.py\", line 317, in test_vectorized_flatten\n",
      "    my_unique = self.vector.vectorized_flatten(self.data)\n",
      "  File \"C:\\Users\\Pol\\Documents\\GitHub\\assignment_4\\submission.py\", line 428, in vectorized_flatten\n",
      "    raise NotImplemented()\n",
      "TypeError: 'NotImplementedType' object is not callable\n",
      "\n",
      "----------------------------------------------------------------------\n",
      "Ran 1 test in 0.038s\n",
      "\n",
      "FAILED (errors=1)\n"
     ]
    }
   ],
   "source": [
    "single_tester(decision_trees_submission_tests.VectorizationWarmUpTests, 'test_vectorized_flatten')"
   ]
  },
  {
   "cell_type": "markdown",
   "metadata": {},
   "source": [
    "### Part 6: Return Your name!\n",
    "_[1 pts]_\n",
    "Return your name from the function `return_your_name()`\n"
   ]
  },
  {
   "cell_type": "code",
   "execution_count": 22,
   "metadata": {},
   "outputs": [
    {
     "name": "stderr",
     "output_type": "stream",
     "text": [
      "E\n",
      "======================================================================\n",
      "ERROR: test_name (decision_trees_submission_tests.NameTests)\n",
      "Test if vectorized arithmetic.\n",
      "----------------------------------------------------------------------\n",
      "Traceback (most recent call last):\n",
      "  File \"C:\\Users\\Pol\\Documents\\GitHub\\assignment_4\\decision_trees_submission_tests.py\", line 376, in test_name\n",
      "    self.name = dt.return_your_name()\n",
      "  File \"C:\\Users\\Pol\\Documents\\GitHub\\assignment_4\\submission.py\", line 433, in return_your_name\n",
      "    raise NotImplemented()\n",
      "TypeError: 'NotImplementedType' object is not callable\n",
      "\n",
      "----------------------------------------------------------------------\n",
      "Ran 1 test in 0.002s\n",
      "\n",
      "FAILED (errors=1)\n"
     ]
    }
   ],
   "source": [
    "single_tester(decision_trees_submission_tests.NameTests, 'test_name')"
   ]
  },
  {
   "cell_type": "code",
   "execution_count": null,
   "metadata": {},
   "outputs": [],
   "source": []
  }
 ],
 "metadata": {
  "kernelspec": {
   "display_name": "Python 3",
   "language": "python",
   "name": "python3"
  },
  "language_info": {
   "codemirror_mode": {
    "name": "ipython",
    "version": 3
   },
   "file_extension": ".py",
   "mimetype": "text/x-python",
   "name": "python",
   "nbconvert_exporter": "python",
   "pygments_lexer": "ipython3",
   "version": "3.6.1"
  }
 },
 "nbformat": 4,
 "nbformat_minor": 2
}
